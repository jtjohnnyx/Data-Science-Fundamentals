{
 "cells": [
  {
   "attachments": {},
   "cell_type": "markdown",
   "metadata": {},
   "source": [
    "# Worksheet 08\n",
    "\n",
    "Name: Jonathan Thomas\n",
    "UID: U81823882\n",
    "\n",
    "### Topics\n",
    "\n",
    "- Soft Clustering\n",
    "- Clustering Aggregation\n",
    "\n",
    "### Probability Review\n",
    "\n",
    "Read through [the following](https://medium.com/@gallettilance/overview-of-probability-3272b72c82c8)\n",
    "\n",
    "### Soft Clustering\n",
    "\n",
    "We generate 10 data points that come from a normal distribution with mean 5 and variance 1."
   ]
  },
  {
   "cell_type": "code",
   "execution_count": 8,
   "metadata": {},
   "outputs": [
    {
     "name": "stdout",
     "output_type": "stream",
     "text": [
      "[6.032223486743153, 5.525617416397002, 3.9486963459444384, 5.16547214840305, 6.080129784977727, 6.647717147233947, 5.359126750755612, 4.545244339836287, 5.002858905928765, 4.1520204035864]\n"
     ]
    }
   ],
   "source": [
    "import random\n",
    "import numpy as np\n",
    "from sklearn.cluster import KMeans\n",
    "\n",
    "mean = 5\n",
    "stdev = 1\n",
    "\n",
    "s1 = np.random.normal(mean, stdev, 10).tolist()\n",
    "print(s1)"
   ]
  },
  {
   "cell_type": "markdown",
   "metadata": {},
   "source": [
    "a) Generate 10 more data points, this time coming from a normal distribution with mean 8 and variance 1."
   ]
  },
  {
   "cell_type": "code",
   "execution_count": 9,
   "metadata": {},
   "outputs": [
    {
     "name": "stdout",
     "output_type": "stream",
     "text": [
      "[6.8633266849454335, 8.389713079598563, 6.213519970896894, 6.581015714106089, 8.13854609130395, 8.285021868738957, 5.769393431820069, 9.669345889006534, 9.658640617136228, 8.868827671590864]\n"
     ]
    }
   ],
   "source": [
    "s2 = np.random.normal(8, 1, 10).tolist()\n",
    "print(s2)"
   ]
  },
  {
   "attachments": {},
   "cell_type": "markdown",
   "metadata": {},
   "source": [
    "b) Flip a fair coin 10 times. If the coin lands on H, then pick the last data point of `s1` and remove it from `s1`, if T then pick the last data point from `s2` and remove it from `s2`. Add these 10 points to a list called `data`."
   ]
  },
  {
   "cell_type": "code",
   "execution_count": 10,
   "metadata": {},
   "outputs": [
    {
     "name": "stdout",
     "output_type": "stream",
     "text": [
      "[4.1520204035864, 5.002858905928765, 8.868827671590864, 4.545244339836287, 9.658640617136228, 9.669345889006534, 5.769393431820069, 5.359126750755612, 6.647717147233947, 8.285021868738957]\n"
     ]
    }
   ],
   "source": [
    "data = []\n",
    "for i in range(10):\n",
    "    # flip coin\n",
    "    coin_output = random.choice([0, 1])\n",
    "    if coin_output == 0:\n",
    "        p1 = s1.pop()\n",
    "        data.append(p1)\n",
    "    else:\n",
    "        p2 = s2.pop()\n",
    "        data.append(p2)\n",
    "print(data)"
   ]
  },
  {
   "cell_type": "markdown",
   "metadata": {},
   "source": [
    "c) This `data` is a Gaussian Mixture Distribution with 2 mixture components. Over the next few questions we will walk through the GMM algorithm to see if we can uncover the parameters we used to generate this data. First, please list all these parameters of the GMM that created `data` and the values we know they have."
   ]
  },
  {
   "cell_type": "markdown",
   "metadata": {},
   "source": [
    "- Means and Variances of each species distribution (s1 ~ Normal(10, 1) & s2 ~ Normal(8,1))\n",
    "- Prior probabilites of each species (coin flip/0.5 for both)\n"
   ]
  },
  {
   "cell_type": "markdown",
   "metadata": {},
   "source": [
    "d) Let's assume there are two mixture components (note: we could plot the data and make the observation that there are two clusters). The EM algorithm asks us to start with a random `mean_j`, `variance_j`, `P(S_j)` for each component j. One method we could use to find sensible values for these is to apply K means with k=2 here.\n",
    "\n",
    "1. the centroids would be the estimates of the `mean_j`\n",
    "2. the intra-cluster variance could be the estimate of `variance_j`\n",
    "3. the proportion of points in each cluster could be the estimate of `P(S_j)`\n",
    "\n",
    "Go through this process and list the parameter estimates it gives. Are they close or far from the true values?"
   ]
  },
  {
   "cell_type": "code",
   "execution_count": 57,
   "metadata": {},
   "outputs": [
    {
     "name": "stdout",
     "output_type": "stream",
     "text": [
      "[4.1520204035864, 5.002858905928765, 8.868827671590864, 4.545244339836287, 9.658640617136228, 9.669345889006534, 5.769393431820069, 5.359126750755612, 6.647717147233947, 8.285021868738957] [0 0 1 0 1 1 0 0 0 1]\n",
      "[4.1520204035864, 5.002858905928765, 4.545244339836287, 5.769393431820069, 5.359126750755612, 6.647717147233947]\n",
      "[8.868827671590864, 9.658640617136228, 9.669345889006534, 8.285021868738957]\n",
      "P(S_1) = 0.6,  P(S_2) = 0.4\n",
      "mean_1 = 5.246060163193513,  mean_2 = 9.120459011618147\n",
      "var_1 = 0.6664194549313046,  var_2 = 0.3380474489183162\n"
     ]
    }
   ],
   "source": [
    "kmeans = KMeans(2, init='k-means++').fit(X=np.array(data).reshape(-1, 1))\n",
    "\n",
    "print(data, kmeans.labels_)\n",
    "s1 = [x[0] for x in filter(lambda x: x[1] == 0, zip(data, kmeans.labels_))]\n",
    "print(s1)\n",
    "s2 = [x[0] for x in filter(lambda x: x[1] == 1, zip(data, kmeans.labels_))]\n",
    "print(s2)\n",
    "\n",
    "prob_s = [ len(s1) / (len(s1) + len(s2)) , len(s2) / (len(s1) + len(s2)) ]\n",
    "mean = [ sum(s1)/len(s1) , sum(s2)/len(s2) ]\n",
    "var = [ sum(map(lambda x : (x - mean[0])**2, s1)) / len(s1) , sum(map(lambda x : (x - mean[1])**2, s2)) / len(s2) ]\n",
    "\n",
    "print(\"P(S_1) = \" + str(prob_s[0]) + \",  P(S_2) = \" + str(prob_s[1]))\n",
    "print(\"mean_1 = \" + str(mean[0]) + \",  mean_2 = \" + str(mean[1]))\n",
    "print(\"var_1 = \" + str(var[0]) + \",  var_2 = \" + str(var[1]))"
   ]
  },
  {
   "cell_type": "markdown",
   "metadata": {},
   "source": [
    "Close"
   ]
  },
  {
   "cell_type": "markdown",
   "metadata": {},
   "source": [
    "e) For each data point, compute `P(S_j | X_i)`. Comment on which cluster you think each point belongs to based on the estimated probabilities. How does that compare to the truth?"
   ]
  },
  {
   "cell_type": "code",
   "execution_count": 58,
   "metadata": {},
   "outputs": [
    {
     "name": "stdout",
     "output_type": "stream",
     "text": [
      "5.246060163193513 9.120459011618147\n",
      "point =  4.1520204035864\n",
      "probability of observing that point if it came from cluster 0 =  0.19908054523228497\n",
      "probability of observing that point if it came from cluster 1 =  9.540830563796795e-17\n",
      "point =  5.002858905928765\n",
      "probability of observing that point if it came from cluster 0 =  0.4674807394040476\n",
      "probability of observing that point if it came from cluster 1 =  8.820450384888993e-12\n",
      "point =  8.868827671590864\n",
      "probability of observing that point if it came from cluster 0 =  2.5855032731028925e-05\n",
      "probability of observing that point if it came from cluster 1 =  0.6248103904015908\n",
      "point =  4.545244339836287\n",
      "probability of observing that point if it came from cluster 0 =  0.3380659468059633\n",
      "probability of observing that point if it came from cluster 1 =  2.4559529436770045e-14\n",
      "point =  9.658640617136228\n",
      "probability of observing that point if it came from cluster 0 =  2.2111401873766148e-07\n",
      "probability of observing that point if it came from cluster 1 =  0.44706351685827134\n",
      "point =  9.669345889006534\n",
      "probability of observing that point if it came from cluster 0 =  2.0596565086942112e-07\n",
      "probability of observing that point if it came from cluster 1 =  0.4394342313811908\n",
      "point =  5.769393431820069\n",
      "probability of observing that point if it came from cluster 0 =  0.3979197147559729\n",
      "probability of observing that point if it came from cluster 1 =  4.1973951483185316e-08\n",
      "point =  5.359126750755612\n",
      "probability of observing that point if it came from cluster 0 =  0.48402818881206394\n",
      "probability of observing that point if it came from cluster 1 =  5.605240386810014e-10\n",
      "point =  6.647717147233947\n",
      "probability of observing that point if it came from cluster 0 =  0.11191128080129055\n",
      "probability of observing that point if it came from cluster 1 =  8.10509757367654e-05\n",
      "point =  8.285021868738957\n",
      "probability of observing that point if it came from cluster 0 =  0.0004784034565311895\n",
      "probability of observing that point if it came from cluster 1 =  0.24439066634472653\n",
      "4.1520204035864\n",
      "Probability of coming from S_1 = 0.9999999999999997\n",
      "Probability of coming from S_2 = 3.19496498353289e-16\n",
      "\n",
      "5.002858905928765\n",
      "Probability of coming from S_1 = 0.9999999999874213\n",
      "Probability of coming from S_2 = 1.2578700598478139e-11\n",
      "\n",
      "8.868827671590864\n",
      "Probability of coming from S_1 = 6.206705678012327e-05\n",
      "Probability of coming from S_2 = 0.9999379329432199\n",
      "\n",
      "4.545244339836287\n",
      "Probability of coming from S_1 = 0.9999999999999516\n",
      "Probability of coming from S_2 = 4.843143705896545e-14\n",
      "\n",
      "9.658640617136228\n",
      "Probability of coming from S_1 = 7.418873818529196e-07\n",
      "Probability of coming from S_2 = 0.9999992581126183\n",
      "\n",
      "9.669345889006534\n",
      "Probability of coming from S_1 = 7.030591543221799e-07\n",
      "Probability of coming from S_2 = 0.9999992969408457\n",
      "\n",
      "5.769393431820069\n",
      "Probability of coming from S_1 = 0.999999929677693\n",
      "Probability of coming from S_2 = 7.032230702990098e-08\n",
      "\n",
      "5.359126750755612\n",
      "Probability of coming from S_1 = 0.9999999992279733\n",
      "Probability of coming from S_2 = 7.72026714151972e-10\n",
      "\n",
      "6.647717147233947\n",
      "Probability of coming from S_1 = 0.9995174042610588\n",
      "Probability of coming from S_2 = 0.0004825957389412321\n",
      "\n",
      "8.285021868738957\n",
      "Probability of coming from S_1 = 0.0029277069285291277\n",
      "Probability of coming from S_2 = 0.9970722930714708\n",
      "\n"
     ]
    }
   ],
   "source": [
    "from scipy.stats import norm\n",
    "\n",
    "prob_s0_x = [] # P(S_0 | X_i)\n",
    "prob_s1_x = [] # P(S_1 | X_i)\n",
    "prob_x = [] # P(X_i)\n",
    "\n",
    "k = 2\n",
    "\n",
    "print(mean[0], mean[1])\n",
    "for p in data:\n",
    "    print(\"point = \", p)\n",
    "    pdf_i = []\n",
    "\n",
    "    for j in range(k):\n",
    "        # P(X_i | S_j)\n",
    "        pdf_i.append(norm.pdf(p, mean[j], np.sqrt(var[j])))\n",
    "        print(\"probability of observing that point if it came from cluster \" + str(j) + \" = \",pdf_i[j])\n",
    "        # P(S_j) already computed\n",
    "        prob_s[j]\n",
    "\n",
    "    # P(X_i) = P(S_0)P(X_i | S_0) + P(S_1)P(X_i | S_1)\n",
    "    prob_x = prob_s[0] * pdf_i[0] + prob_s[1] * pdf_i[1]\n",
    "\n",
    "    # P(S_j | X_i) = P(X_i | S_j)P(S_j) / P(X_i)\n",
    "    prob_s0_x.append(pdf_i[0] * prob_s[0] / prob_x)\n",
    "    prob_s1_x.append(pdf_i[1] * prob_s[1] / prob_x)\n",
    "\n",
    "probs = zip(data, prob_s0_x, prob_s1_x)\n",
    "for p in probs:\n",
    "    print(p[0])\n",
    "    print(\"Probability of coming from S_1 = \" + str(p[1]))\n",
    "    print(\"Probability of coming from S_2 = \" + str(p[2]))\n",
    "    print()\n"
   ]
  },
  {
   "cell_type": "markdown",
   "metadata": {},
   "source": [
    "I think every point is accurately labeled here; points closer to 5 are set to 0 and those close to 8 are set to 1"
   ]
  },
  {
   "cell_type": "markdown",
   "metadata": {},
   "source": [
    "f) Having computed `P(S_j | X_i)`, update the estimates of `mean_j`, `var_j`, and `P(S_j)`. How different are these values from the original ones you got from K means? briefly comment."
   ]
  },
  {
   "cell_type": "code",
   "execution_count": 59,
   "metadata": {},
   "outputs": [
    {
     "name": "stdout",
     "output_type": "stream",
     "text": [
      "P(S_1) = 0.6,  P(S_2) = 0.4\n",
      "mean_1 = 5.247468233932487,  mean_2 = 9.12077600408126\n",
      "var_1 = 0.6706258992089454,  var_2 = 0.3384855867933154\n"
     ]
    }
   ],
   "source": [
    "prob_c = [sum(prob_s0_x)/ len(prob_s0_x), sum(prob_s1_x)/ len(prob_s1_x) ]\n",
    "mean = [sum([x[0] * x[1] for x in zip(prob_s0_x, data)]) / sum(prob_s0_x), sum([x[0] * x[1] for x in zip(prob_s1_x, data)]) / sum(prob_s1_x) ]\n",
    "var = [sum([x[0] * ((x[1] - mean[0]) ** 2) for x in zip(prob_s0_x, data)]) / sum(prob_s0_x), sum([x[0] * ((x[1] - mean[1]) ** 2) for x in zip(prob_s1_x, data)]) / sum(prob_s1_x)]\n",
    "\n",
    "print(\"P(S_1) = \" + str(prob_s[0]) + \",  P(S_2) = \" + str(prob_s[1]))\n",
    "print(\"mean_1 = \" + str(mean[0]) + \",  mean_2 = \" + str(mean[1]))\n",
    "print(\"var_1 = \" + str(var[0]) + \",  var_2 = \" + str(var[1]))"
   ]
  },
  {
   "cell_type": "markdown",
   "metadata": {},
   "source": [
    "Very close to the orignal."
   ]
  },
  {
   "cell_type": "markdown",
   "metadata": {},
   "source": [
    "g) Update `P(S_j | X_i)`. Comment on any differences or lack thereof you observe."
   ]
  },
  {
   "cell_type": "code",
   "execution_count": 60,
   "metadata": {},
   "outputs": [
    {
     "name": "stdout",
     "output_type": "stream",
     "text": [
      "point =  4.1520204035864\n",
      "probability of observing that point if it came from cluster 0 =  0.19911800344926153\n",
      "probability of observing that point if it came from cluster 1 =  9.949684168416914e-17\n",
      "point =  5.002858905928765\n",
      "probability of observing that point if it came from cluster 0 =  0.4659033922263087\n",
      "probability of observing that point if it came from cluster 1 =  9.070516679454789e-12\n",
      "point =  8.868827671590864\n",
      "probability of observing that point if it came from cluster 0 =  2.7625205091386437e-05\n",
      "probability of observing that point if it came from cluster 1 =  0.6243343419731926\n",
      "point =  4.545244339836287\n",
      "probability of observing that point if it came from cluster 0 =  0.33728669969131614\n",
      "probability of observing that point if it came from cluster 1 =  2.5437987223718933e-14\n",
      "point =  9.658640617136228\n",
      "probability of observing that point if it came from cluster 0 =  2.4381914557595375e-07\n",
      "probability of observing that point if it came from cluster 1 =  0.44724719118800677\n",
      "point =  9.669345889006534\n",
      "probability of observing that point if it came from cluster 0 =  2.2722149478651235e-07\n",
      "probability of observing that point if it came from cluster 1 =  0.4396289735105135\n",
      "point =  5.769393431820069\n",
      "probability of observing that point if it came from cluster 0 =  0.39761746262209097\n",
      "probability of observing that point if it came from cluster 1 =  4.272407995815755e-08\n",
      "point =  5.359126750755612\n",
      "probability of observing that point if it came from cluster 0 =  0.48265067147356466\n",
      "probability of observing that point if it came from cluster 1 =  5.735172161616377e-10\n",
      "point =  6.647717147233947\n",
      "probability of observing that point if it came from cluster 0 =  0.11292767246454814\n",
      "probability of observing that point if it came from cluster 1 =  8.176269690611891e-05\n",
      "point =  8.285021868738957\n",
      "probability of observing that point if it came from cluster 0 =  0.0005012722518622684\n",
      "probability of observing that point if it came from cluster 1 =  0.24436771893346998\n",
      "4.1520204035864\n",
      "Probability of coming from S_1 = 0.9999999999999997\n",
      "Probability of coming from S_2 = 3.331252154019731e-16\n",
      "\n",
      "5.002858905928765\n",
      "Probability of coming from S_1 = 0.9999999999870209\n",
      "Probability of coming from S_2 = 1.2979109447266606e-11\n",
      "\n",
      "8.868827671590864\n",
      "Probability of coming from S_1 = 6.636677619305682e-05\n",
      "Probability of coming from S_2 = 0.9999336332238069\n",
      "\n",
      "4.545244339836287\n",
      "Probability of coming from S_1 = 0.9999999999999497\n",
      "Probability of coming from S_2 = 5.027965278401319e-14\n",
      "\n",
      "9.658640617136228\n",
      "Probability of coming from S_1 = 8.177321769742549e-07\n",
      "Probability of coming from S_2 = 0.999999182267823\n",
      "\n",
      "9.669345889006534\n",
      "Probability of coming from S_1 = 7.752718735085069e-07\n",
      "Probability of coming from S_2 = 0.9999992247281265\n",
      "\n",
      "5.769393431820069\n",
      "Probability of coming from S_1 = 0.9999999283665316\n",
      "Probability of coming from S_2 = 7.163346836921987e-08\n",
      "\n",
      "5.359126750755612\n",
      "Probability of coming from S_1 = 0.9999999992078229\n",
      "Probability of coming from S_2 = 7.921771025495855e-10\n",
      "\n",
      "6.647717147233947\n",
      "Probability of coming from S_1 = 0.9995175481287774\n",
      "Probability of coming from S_2 = 0.000482451871222595\n",
      "\n",
      "8.285021868738957\n",
      "Probability of coming from S_1 = 0.003067515996336748\n",
      "Probability of coming from S_2 = 0.9969324840036632\n",
      "\n"
     ]
    }
   ],
   "source": [
    "prob_s0_x = [] # P(S_0 | X_i)\n",
    "prob_s1_x = [] # P(S_1 | X_i)\n",
    "prob_x = [] # P(X_i)\n",
    "\n",
    "k = 2\n",
    "\n",
    "for p in data:\n",
    "    print(\"point = \", p)\n",
    "    pdf_i = []\n",
    "\n",
    "    for j in range(k):\n",
    "        # P(X_i | S_j)\n",
    "        pdf_i.append(norm.pdf(p, mean[j], np.sqrt(var[j])))\n",
    "        print(\"probability of observing that point if it came from cluster \" + str(j) + \" = \",pdf_i[j])\n",
    "        # P(S_j) already computed\n",
    "        prob_s[j]\n",
    "\n",
    "    # P(X_i) = P(S_0)P(X_i | S_0) + P(S_1)P(X_i | S_1)\n",
    "    prob_x = prob_s[0] * pdf_i[0] + prob_s[1] * pdf_i[1]\n",
    "\n",
    "    # P(S_j | X_i) = P(X_i | S_j)P(S_j) / P(X_i)\n",
    "    prob_s0_x.append(pdf_i[0] * prob_s[0] / prob_x)\n",
    "    prob_s1_x.append(pdf_i[1] * prob_s[1] / prob_x)\n",
    "\n",
    "probs = zip(data, prob_s0_x, prob_s1_x)\n",
    "for p in probs:\n",
    "    print(p[0])\n",
    "    print(\"Probability of coming from S_1 = \" + str(p[1]))\n",
    "    print(\"Probability of coming from S_2 = \" + str(p[2]))\n",
    "    print()"
   ]
  },
  {
   "cell_type": "markdown",
   "metadata": {},
   "source": [
    "Largely unchanged."
   ]
  },
  {
   "cell_type": "markdown",
   "metadata": {},
   "source": [
    "h) Use `P(S_j | X_i)` to create a hard assignment - label each point as belonging to a specific cluster (0 or 1)"
   ]
  },
  {
   "cell_type": "code",
   "execution_count": 71,
   "metadata": {},
   "outputs": [
    {
     "name": "stdout",
     "output_type": "stream",
     "text": [
      "Point 4.1520204035864 : 0\n",
      "Point 5.002858905928765 : 0\n",
      "Point 8.868827671590864 : 1\n",
      "Point 4.545244339836287 : 0\n",
      "Point 9.658640617136228 : 1\n",
      "Point 9.669345889006534 : 1\n",
      "Point 5.769393431820069 : 0\n",
      "Point 5.359126750755612 : 0\n",
      "Point 6.647717147233947 : 0\n",
      "Point 8.285021868738957 : 1\n"
     ]
    }
   ],
   "source": [
    "\n",
    "probs = zip(data, prob_s0_x, prob_s1_x)\n",
    "for p in probs:\n",
    "    index = (p[1], p[2]).index(max(p[1], p[2]))\n",
    "    print(\"Point\",p[0],\":\",index)"
   ]
  }
 ],
 "metadata": {
  "kernelspec": {
   "display_name": "Python 3",
   "language": "python",
   "name": "python3"
  },
  "language_info": {
   "codemirror_mode": {
    "name": "ipython",
    "version": 3
   },
   "file_extension": ".py",
   "mimetype": "text/x-python",
   "name": "python",
   "nbconvert_exporter": "python",
   "pygments_lexer": "ipython3",
   "version": "3.9.13"
  },
  "orig_nbformat": 4,
  "vscode": {
   "interpreter": {
    "hash": "e7370f93d1d0cde622a1f8e1c04877d8463912d04d973331ad4851f04de6915a"
   }
  }
 },
 "nbformat": 4,
 "nbformat_minor": 2
}
