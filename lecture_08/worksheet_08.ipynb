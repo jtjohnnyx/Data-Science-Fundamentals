{
 "cells": [
  {
   "attachments": {},
   "cell_type": "markdown",
   "metadata": {},
   "source": [
    "# Worksheet 08\n",
    "\n",
    "Name: Jonathan Thomas\n",
    "UID: U81823882\n",
    "\n",
    "### Topics\n",
    "\n",
    "- Soft Clustering\n",
    "- Clustering Aggregation\n",
    "\n",
    "### Probability Review\n",
    "\n",
    "Read through [the following](https://medium.com/@gallettilance/overview-of-probability-3272b72c82c8)\n",
    "\n",
    "### Soft Clustering\n",
    "\n",
    "We generate 10 data points that come from a normal distribution with mean 5 and variance 1."
   ]
  },
  {
   "cell_type": "code",
   "execution_count": 6,
   "metadata": {},
   "outputs": [
    {
     "name": "stdout",
     "output_type": "stream",
     "text": [
      "[5.348580671096639, 5.290230993770903, 4.679230975450958, 5.908087277635816, 3.2243512064512245, 5.364669406169521, 5.149829300951774, 4.0321081583736635, 4.164078183425797, 4.597644184370205]\n"
     ]
    }
   ],
   "source": [
    "import random\n",
    "import numpy as np\n",
    "from sklearn.cluster import KMeans\n",
    "\n",
    "mean = 5\n",
    "stdev = 1\n",
    "\n",
    "s1 = np.random.normal(mean, stdev, 10).tolist()\n",
    "print(s1)"
   ]
  },
  {
   "cell_type": "markdown",
   "metadata": {},
   "source": [
    "a) Generate 10 more data points, this time coming from a normal distribution with mean 8 and variance 1."
   ]
  },
  {
   "cell_type": "code",
   "execution_count": 7,
   "metadata": {},
   "outputs": [
    {
     "name": "stdout",
     "output_type": "stream",
     "text": [
      "[8.800154426570247, 8.161643879842266, 9.019508919867487, 7.336060282674813, 5.97633745957963, 8.206572056674291, 7.033693950593069, 6.253483862045935, 8.88535398175128, 7.920539113256612]\n"
     ]
    }
   ],
   "source": [
    "s2 = np.random.normal(8, 1, 10).tolist()\n",
    "print(s2)"
   ]
  },
  {
   "attachments": {},
   "cell_type": "markdown",
   "metadata": {},
   "source": [
    "b) Flip a fair coin 10 times. If the coin lands on H, then pick the last data point of `s1` and remove it from `s1`, if T then pick the last data point from `s2` and remove it from `s2`. Add these 10 points to a list called `data`."
   ]
  },
  {
   "cell_type": "code",
   "execution_count": 8,
   "metadata": {},
   "outputs": [
    {
     "name": "stdout",
     "output_type": "stream",
     "text": [
      "[7.920539113256612, 4.597644184370205, 4.164078183425797, 8.88535398175128, 4.0321081583736635, 6.253483862045935, 7.033693950593069, 5.149829300951774, 5.364669406169521, 3.2243512064512245]\n"
     ]
    }
   ],
   "source": [
    "data = []\n",
    "for i in range(10):\n",
    "    # flip coin\n",
    "    coin_output = random.choice([0, 1])\n",
    "    if coin_output == 0:\n",
    "        p1 = s1.pop()\n",
    "        data.append(p1)\n",
    "    else:\n",
    "        p2 = s2.pop()\n",
    "        data.append(p2)\n",
    "print(data)"
   ]
  },
  {
   "cell_type": "markdown",
   "metadata": {},
   "source": [
    "c) This `data` is a Gaussian Mixture Distribution with 2 mixture components. Over the next few questions we will walk through the GMM algorithm to see if we can uncover the parameters we used to generate this data. First, please list all these parameters of the GMM that created `data` and the values we know they have."
   ]
  },
  {
   "cell_type": "markdown",
   "metadata": {},
   "source": [
    "- Means and Variances of each species distribution (s1 ~ Normal(10, 1) & s2 ~ Normal(8,1))\n",
    "- Prior probabilites of each species (coin flip/0.5 for both)\n"
   ]
  },
  {
   "cell_type": "markdown",
   "metadata": {},
   "source": [
    "d) Let's assume there are two mixture components (note: we could plot the data and make the observation that there are two clusters). The EM algorithm asks us to start with a random `mean_j`, `variance_j`, `P(S_j)` for each component j. One method we could use to find sensible values for these is to apply K means with k=2 here.\n",
    "\n",
    "1. the centroids would be the estimates of the `mean_j`\n",
    "2. the intra-cluster variance could be the estimate of `variance_j`\n",
    "3. the proportion of points in each cluster could be the estimate of `P(S_j)`\n",
    "\n",
    "Go through this process and list the parameter estimates it gives. Are they close or far from the true values?"
   ]
  },
  {
   "cell_type": "code",
   "execution_count": 9,
   "metadata": {},
   "outputs": [
    {
     "name": "stdout",
     "output_type": "stream",
     "text": [
      "[4.597644184370205, 4.164078183425797, 4.0321081583736635, 6.253483862045935, 5.149829300951774, 5.364669406169521, 3.2243512064512245]\n",
      "[7.920539113256612, 8.88535398175128, 7.033693950593069]\n",
      "P(S_1) = 0.7,  P(S_2) = 0.3\n",
      "mean_1 = 4.683737757398303,  mean_2 = 7.94652901520032\n",
      "var_1 = 0.8538429265535736,  var_2 = 0.5717785493329929\n"
     ]
    }
   ],
   "source": [
    "kmeans = KMeans(2, init='k-means++').fit(X=np.array(data).reshape(-1, 1))\n",
    "\n",
    "s1 = [x[0] for x in filter(lambda x: x[1] == 0, zip(data, kmeans.labels_))]\n",
    "print(s1)\n",
    "s2 = [x[0] for x in filter(lambda x: x[1] == 1, zip(data, kmeans.labels_))]\n",
    "print(s2)\n",
    "\n",
    "prob_s = [ len(s1) / (len(s1) + len(s2)) , len(s2) / (len(s1) + len(s2)) ]\n",
    "mean = [ sum(s1)/len(s1) , sum(s2)/len(s2) ]\n",
    "var = [ sum(map(lambda x : (x - mean[0])**2, s1)) / len(s1) , sum(map(lambda x : (x - mean[1])**2, s2)) / len(s2) ]\n",
    "\n",
    "print(\"P(S_1) = \" + str(prob_s[0]) + \",  P(S_2) = \" + str(prob_s[1]))\n",
    "print(\"mean_1 = \" + str(mean[0]) + \",  mean_2 = \" + str(mean[1]))\n",
    "print(\"var_1 = \" + str(var[0]) + \",  var_2 = \" + str(var[1]))"
   ]
  },
  {
   "cell_type": "markdown",
   "metadata": {},
   "source": []
  },
  {
   "cell_type": "markdown",
   "metadata": {},
   "source": [
    "e) For each data point, compute `P(S_j | X_i)`. Comment on which cluster you think each point belongs to based on the estimated probabilities. How does that compare to the truth?"
   ]
  },
  {
   "cell_type": "code",
   "execution_count": 10,
   "metadata": {},
   "outputs": [
    {
     "name": "stdout",
     "output_type": "stream",
     "text": [
      "point =  7.920539113256612\n",
      "probability of observing that point if it came from cluster 0 =  0.0003539868654053757\n",
      "probability of observing that point if it came from cluster 1 =  0.6970012502793519\n",
      "point =  4.597644184370205\n",
      "probability of observing that point if it came from cluster 0 =  0.46486235937626136\n",
      "probability of observing that point if it came from cluster 1 =  2.4812139564433036e-08\n",
      "point =  4.164078183425797\n",
      "probability of observing that point if it came from cluster 0 =  0.38823860763955065\n",
      "probability of observing that point if it came from cluster 1 =  2.192918102630764e-10\n",
      "point =  8.88535398175128\n",
      "probability of observing that point if it came from cluster 0 =  2.578722631575194e-06\n",
      "probability of observing that point if it came from cluster 1 =  0.1812432316596433\n",
      "point =  4.0321081583736635\n",
      "probability of observing that point if it came from cluster 0 =  0.34918731621500304\n",
      "probability of observing that point if it came from cluster 1 =  4.638285409381032e-11\n",
      "point =  6.253483862045935\n",
      "probability of observing that point if it came from cluster 0 =  0.08621797121999555\n",
      "probability of observing that point if it came from cluster 1 =  0.00870601210112789\n",
      "point =  7.033693950593069\n",
      "probability of observing that point if it came from cluster 0 =  0.010585563282571151\n",
      "probability of observing that point if it came from cluster 1 =  0.19508597356640733\n",
      "point =  5.149829300951774\n",
      "probability of observing that point if it came from cluster 0 =  0.40255631245721224\n",
      "probability of observing that point if it came from cluster 1 =  4.452723342261466e-06\n",
      "point =  5.364669406169521\n",
      "probability of observing that point if it came from cluster 0 =  0.3399604207351034\n",
      "probability of observing that point if it came from cluster 1 =  2.606924317813037e-05\n",
      "point =  3.2243512064512245\n",
      "probability of observing that point if it came from cluster 0 =  0.10843446876835698\n",
      "probability of observing that point if it came from cluster 1 =  1.078251589985702e-15\n",
      "7.920539113256612\n",
      "Probability of coming from S_1 = 0.0011836301728788414\n",
      "Probability of coming from S_2 = 0.9988163698271211\n",
      "\n",
      "4.597644184370205\n",
      "Probability of coming from S_1 = 0.9999999771248981\n",
      "Probability of coming from S_2 = 2.2875101933531784e-08\n",
      "\n",
      "4.164078183425797\n",
      "Probability of coming from S_1 = 0.9999999997579267\n",
      "Probability of coming from S_2 = 2.420733088528019e-10\n",
      "\n",
      "8.88535398175128\n",
      "Probability of coming from S_1 = 3.319748643111875e-05\n",
      "Probability of coming from S_2 = 0.999966802513569\n",
      "\n",
      "4.0321081583736635\n",
      "Probability of coming from S_1 = 0.9999999999430724\n",
      "Probability of coming from S_2 = 5.692751459171904e-11\n",
      "\n",
      "6.253483862045935\n",
      "Probability of coming from S_1 = 0.9585193487840923\n",
      "Probability of coming from S_2 = 0.04148065121590765\n",
      "\n",
      "7.033693950593069\n",
      "Probability of coming from S_1 = 0.11238063491862317\n",
      "Probability of coming from S_2 = 0.8876193650813767\n",
      "\n",
      "5.149829300951774\n",
      "Probability of coming from S_1 = 0.9999952595428304\n",
      "Probability of coming from S_2 = 4.740457169622292e-06\n",
      "\n",
      "5.364669406169521\n",
      "Probability of coming from S_1 = 0.9999671368637502\n",
      "Probability of coming from S_2 = 3.286313624980857e-05\n",
      "\n",
      "3.2243512064512245\n",
      "Probability of coming from S_1 = 0.9999999999999958\n",
      "Probability of coming from S_2 = 4.261632205408429e-15\n",
      "\n"
     ]
    }
   ],
   "source": [
    "from scipy.stats import norm\n",
    "\n",
    "prob_s0_x = [] # P(S_0 | X_i)\n",
    "prob_s1_x = [] # P(S_1 | X_i)\n",
    "prob_x = [] # P(X_i)\n",
    "\n",
    "k = 2\n",
    "\n",
    "for p in data:\n",
    "    print(\"point = \", p)\n",
    "    pdf_i = []\n",
    "\n",
    "    for j in range(k):\n",
    "        # P(X_i | S_j)\n",
    "        pdf_i.append(norm.pdf(p, mean[j], var[j]))\n",
    "        print(\"probability of observing that point if it came from cluster \" + str(j) + \" = \", pdf_i[j])\n",
    "        # P(S_j) already computed\n",
    "        prob_s[j]\n",
    "\n",
    "    # P(X_i) = P(S_0)P(X_i | S_0) + P(S_1)P(X_i | S_1)\n",
    "    prob_x = prob_s[0] * pdf_i[0] + prob_s[1] * pdf_i[1]\n",
    "\n",
    "    # P(S_j | X_i) = P(X_i | S_j)P(S_j) / P(X_i)\n",
    "    prob_s0_x.append(pdf_i[0] * prob_s[0] / prob_x)\n",
    "    prob_s1_x.append(pdf_i[1] * prob_s[1] / prob_x)\n",
    "\n",
    "probs = zip(data, prob_s0_x, prob_s1_x)\n",
    "for p in probs:\n",
    "    print(p[0])\n",
    "    print(\"Probability of coming from S_1 = \" + str(p[1]))\n",
    "    print(\"Probability of coming from S_2 = \" + str(p[2]))\n",
    "    print()\n"
   ]
  },
  {
   "cell_type": "markdown",
   "metadata": {},
   "source": [
    "f) Having computed `P(S_j | X_i)`, update the estimates of `mean_j`, `var_j`, and `P(S_j)`. How different are these values from the original ones you got from K means? briefly comment."
   ]
  },
  {
   "cell_type": "code",
   "execution_count": 15,
   "metadata": {},
   "outputs": [
    {
     "name": "stdout",
     "output_type": "stream",
     "text": [
      "P(S_1) = 0.7,  P(S_2) = 0.3\n",
      "mean_1 = 4.712431094534792,  mean_2 = 7.9575463148811\n",
      "var_1 = 9.184724319521532,  var_2 = 151.30013331617846\n"
     ]
    }
   ],
   "source": [
    "prob_c = [sum(prob_s0_x)/ len(prob_s0_x), sum(prob_s1_x)/ len(prob_s1_x) ]\n",
    "mean = [sum([x[0] * x[1] for x in zip(prob_s0_x, data)]) / sum(prob_s0_x), sum([x[0] * x[1] for x in zip(prob_s1_x, data)]) / sum(prob_s1_x) ]\n",
    "var = [sum([(x[0] * x[1] - mean[0]) ** 2 for x in zip(prob_s0_x, data)]) / sum(prob_s0_x), sum([(x[0] * x[1] - mean[1]) ** 2 for x in zip(prob_s1_x, data)]) / sum(prob_s1_x)]\n",
    "\n",
    "print(\"P(S_1) = \" + str(prob_s[0]) + \",  P(S_2) = \" + str(prob_s[1]))\n",
    "print(\"mean_1 = \" + str(mean[0]) + \",  mean_2 = \" + str(mean[1]))\n",
    "print(\"var_1 = \" + str(var[0]) + \",  var_2 = \" + str(var[1]))"
   ]
  },
  {
   "cell_type": "markdown",
   "metadata": {},
   "source": []
  },
  {
   "cell_type": "markdown",
   "metadata": {},
   "source": [
    "g) Update `P(S_j | X_i)`. Comment on any differences or lack thereof you observe."
   ]
  },
  {
   "cell_type": "code",
   "execution_count": null,
   "metadata": {},
   "outputs": [],
   "source": []
  },
  {
   "cell_type": "markdown",
   "metadata": {},
   "source": []
  },
  {
   "cell_type": "markdown",
   "metadata": {},
   "source": [
    "h) Use `P(S_j | X_i)` to create a hard assignment - label each point as belonging to a specific cluster (0 or 1)"
   ]
  },
  {
   "cell_type": "code",
   "execution_count": null,
   "metadata": {},
   "outputs": [],
   "source": []
  }
 ],
 "metadata": {
  "kernelspec": {
   "display_name": "Python 3",
   "language": "python",
   "name": "python3"
  },
  "language_info": {
   "codemirror_mode": {
    "name": "ipython",
    "version": 3
   },
   "file_extension": ".py",
   "mimetype": "text/x-python",
   "name": "python",
   "nbconvert_exporter": "python",
   "pygments_lexer": "ipython3",
   "version": "3.9.13"
  },
  "orig_nbformat": 4,
  "vscode": {
   "interpreter": {
    "hash": "e7370f93d1d0cde622a1f8e1c04877d8463912d04d973331ad4851f04de6915a"
   }
  }
 },
 "nbformat": 4,
 "nbformat_minor": 2
}
