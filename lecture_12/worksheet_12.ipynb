{
 "cells": [
  {
   "attachments": {},
   "cell_type": "markdown",
   "metadata": {},
   "source": [
    "# Worksheet 12\n",
    "\n",
    "Name: Jonathan Thomas\n",
    "UID: U81823882\n",
    "\n",
    "### Topics\n",
    "\n",
    "- Introduction to Classification\n",
    "- K Nearest Neighbors\n",
    "\n",
    "### Introduction to Classification\n",
    "\n",
    "a) For the following examples, say whether they are or aren't an example of classification.\n",
    "\n",
    "1. Predicting whether a student will be offered a job after graduating given their GPA.\n",
    "2. Predicting how long it will take (in number of months) for a student to be offered a job after graduating, given their GPA.\n",
    "3. Predicting the number of stars (1-5) a person will assign in their yelp review given the description they wrote in the review.\n",
    "4. Predicting the number of births occuring in a specified minute."
   ]
  },
  {
   "cell_type": "markdown",
   "metadata": {},
   "source": [
    "1. yes\n",
    "2. no\n",
    "3. yes\n",
    "4. no"
   ]
  },
  {
   "cell_type": "markdown",
   "metadata": {},
   "source": [
    "b) Given a dataset, how would you set things up such that you can both learn a model and get an idea of how this model might perform on data it has never seen?"
   ]
  },
  {
   "cell_type": "markdown",
   "metadata": {},
   "source": [
    "Classify the data using a method such as KMeans "
   ]
  },
  {
   "cell_type": "markdown",
   "metadata": {},
   "source": [
    "c) In your own words, briefly explain:\n",
    "\n",
    "- underfitting\n",
    "- overfitting\n",
    "\n",
    "and what signs to look out for for each."
   ]
  },
  {
   "cell_type": "markdown",
   "metadata": {},
   "source": [
    "- Underfitting is where you barely fit a model to the dataset, often leading to incorrectly predicted values. However, it is usually simple, easy to follow and can more readily be applied to new data with similar accuracy.\n",
    "- Overfitting is where the model attempts to meet every prediction correctly. However, it is more complex and unlikely to perform well with new data with similar accuracy."
   ]
  },
  {
   "cell_type": "markdown",
   "metadata": {},
   "source": [
    "### K Nearest Neighbors"
   ]
  },
  {
   "cell_type": "code",
   "execution_count": 4,
   "metadata": {},
   "outputs": [],
   "source": [
    "import numpy as np\n",
    "import matplotlib.pyplot as plt\n",
    "\n",
    "data = {\n",
    "    \"Attribute A\" : [3.5, 0, 1, 2.5, 2, 1.5, 2, 3.5, 1, 3, 2, 2, 2.5, 0.5, 0., 10],\n",
    "    \"Attribute B\" : [4, 1.5, 2, 1, 3.5, 2.5, 1, 0, 3, 1.5, 4, 2, 2.5, 0.5, 2.5, 10],\n",
    "    \"Class\" : [1, 0, 1, 0, 1, 0, 1, 0, 1, 0, 1, 0, 0, 1, 1, 0],\n",
    "}"
   ]
  },
  {
   "cell_type": "markdown",
   "metadata": {},
   "source": [
    "a) Plot the data in a 2D plot coloring each scatter point one of two colors depending on its corresponding class."
   ]
  },
  {
   "cell_type": "code",
   "execution_count": 2,
   "metadata": {},
   "outputs": [
    {
     "data": {
      "image/png": "[encoded data removed]",
      "text/plain": [
       "<Figure size 640x480 with 1 Axes>"
      ]
     },
     "metadata": {},
     "output_type": "display_data"
    }
   ],
   "source": [
    "colors = np.array([x for x in 'bgrcmyk'])\n",
    "plt.scatter(data[\"Attribute A\"], data[\"Attribute B\"], color=colors[data[\"Class\"]].tolist())\n",
    "plt.show()"
   ]
  },
  {
   "cell_type": "markdown",
   "metadata": {},
   "source": [
    "Outliers are points that lie far from the rest of the data. They are not necessarily invalid points however. Imagine sampling from a Normal Distribution with mean 10 and variance 1. You would expect most points you sample to be in the range [7, 13] but it's entirely possible to see 20 which, on average, should be very far from the rest of the points in the sample (unless we're VERY (un)lucky). These outliers can inhibit our ability to learn general patterns in the data since they are not representative of likely outcomes. They can still be useful in of themselves and can be analyzed in great depth depending on the problem at hand.\n",
    "\n",
    "b) Are there any points in the dataset that could be outliers? If so, please remove them from the dataset."
   ]
  },
  {
   "cell_type": "markdown",
   "metadata": {},
   "source": [
    "(10,10)"
   ]
  },
  {
   "cell_type": "code",
   "execution_count": 5,
   "metadata": {},
   "outputs": [
    {
     "name": "stdout",
     "output_type": "stream",
     "text": [
      "{'Attribute A': [3.5, 0, 1, 2.5, 2, 1.5, 2, 3.5, 1, 3, 2, 2, 2.5, 0.5, 0.0], 'Attribute B': [4, 1.5, 2, 1, 3.5, 2.5, 1, 0, 3, 1.5, 4, 2, 2.5, 0.5, 2.5], 'Class': [1, 0, 1, 0, 1, 0, 1, 0, 1, 0, 1, 0, 0, 1, 1]}\n"
     ]
    }
   ],
   "source": [
    "for key in data:\n",
    "    data[key] = data[key][:-1]\n",
    "\n",
    "print(data)"
   ]
  },
  {
   "cell_type": "markdown",
   "metadata": {},
   "source": [
    "Noise points are points that could be considered invalid under the general trend in the data. These could be the result of actual errors in the data or randomness that we could attribute to oversimplification (for example if missing some information / feature about each point). Considering noise points in our model can often lead to overfitting.\n",
    "\n",
    "c) Are there any points in the dataset that could be noise points?"
   ]
  },
  {
   "cell_type": "markdown",
   "metadata": {},
   "source": [
    "(0, 1.5) & (2, 1)"
   ]
  },
  {
   "cell_type": "markdown",
   "metadata": {},
   "source": [
    "For the following point\n",
    "\n",
    "|  A  |  B  |\n",
    "|-----|-----|\n",
    "| 0.5 |  1  |\n",
    "\n",
    "d) Plot it in a different color along with the rest of the points in the dataset."
   ]
  },
  {
   "cell_type": "code",
   "execution_count": 7,
   "metadata": {},
   "outputs": [
    {
     "data": {
      "image/png": "[encoded data removed]",
      "text/plain": [
       "<Figure size 640x480 with 1 Axes>"
      ]
     },
     "metadata": {},
     "output_type": "display_data"
    }
   ],
   "source": [
    "colors = np.array([x for x in 'bgrcmyk'])\n",
    "plt.scatter(data[\"Attribute A\"], data[\"Attribute B\"], color=colors[data[\"Class\"]].tolist())\n",
    "plt.scatter(0.5, 1, color = colors[2])\n",
    "plt.show()"
   ]
  },
  {
   "cell_type": "markdown",
   "metadata": {},
   "source": [
    "e) Write a function to compute the Euclidean distance from it to all points in the dataset and pick the 3 closest points to it. In a scatter plot, draw a circle centered around the point with radius the distance of the farthest of the three points."
   ]
  },
  {
   "cell_type": "code",
   "execution_count": 40,
   "metadata": {},
   "outputs": [
    {
     "name": "stdout",
     "output_type": "stream",
     "text": [
      "[((0.5, 0.5), 0.5, 1), ((0, 1.5), 0.7071067811865476, 0), ((1, 2), 1.118033988749895, 1)]\n"
     ]
    },
    {
     "data": {
      "image/png": "[encoded data removed]",
      "text/plain": [
       "<Figure size 640x480 with 1 Axes>"
      ]
     },
     "metadata": {},
     "output_type": "display_data"
    }
   ],
   "source": [
    "def n_closest_to(data, point, n):\n",
    "    d = [((data[\"Attribute A\"][i], data[\"Attribute B\"][i]), data[\"Class\"][i]) for i in range(len(data[\"Attribute A\"]))]\n",
    "    ls = [(d[i][0], euclidean(d[i][0], point), d[i][1]) for i in range(n)]\n",
    "    for i in range(n, len(d)):\n",
    "        dist = euclidean(d[i][0], point)\n",
    "        if (dist < max(ls, key=lambda x: x[1])[1]):\n",
    "            ls[ls.index(max(ls, key=lambda x: x[1]))] = (d[i][0], dist, d[i][1])\n",
    "    print(ls)\n",
    "    return ls\n",
    "\n",
    "def euclidean(p1, p2):\n",
    "    return np.sqrt(np.sum((np.array(p2) - np.array(p1))**2))\n",
    "\n",
    "far = max(n_closest_to(data, (0.5, 1), 3), key=lambda x: x[1])\n",
    "location = (0.5, 1)\n",
    "radius = far[1]\n",
    "_, axes = plt.subplots()\n",
    "axes.scatter(data[\"Attribute A\"], data[\"Attribute B\"], color=colors[data[\"Class\"]].tolist())\n",
    "axes.scatter(0.5, 1, color = colors[2])\n",
    "cir = plt.Circle(location, radius, fill = False, alpha=0.8)\n",
    "axes.add_patch(cir)\n",
    "axes.set_aspect('equal') # necessary so that the circle is not oval\n",
    "plt.show()\n",
    "\n",
    "  "
   ]
  },
  {
   "cell_type": "markdown",
   "metadata": {},
   "source": [
    "f) Write a function that takes the three points returned by your function in e) and returns the class that the majority of points have (break ties with a deterministic default class of your choosing). Print the class assigned to this new point by your function."
   ]
  },
  {
   "cell_type": "code",
   "execution_count": 41,
   "metadata": {},
   "outputs": [
    {
     "name": "stdout",
     "output_type": "stream",
     "text": [
      "[((0.5, 0.5), 0.5, 1), ((0, 1.5), 0.7071067811865476, 0), ((1, 2), 1.118033988749895, 1)]\n",
      "Class: 1\n"
     ]
    },
    {
     "data": {
      "text/plain": [
       "1"
      ]
     },
     "execution_count": 41,
     "metadata": {},
     "output_type": "execute_result"
    }
   ],
   "source": [
    "def majority(points):\n",
    "    sum = 0\n",
    "    for p in points:\n",
    "        if p[2] == 0:\n",
    "            sum += 1\n",
    "        else:\n",
    "            sum -= 1\n",
    "            \n",
    "    if (sum >= 0):\n",
    "        print(\"Class:\",0)\n",
    "        return 0\n",
    "    else:\n",
    "        print(\"Class:\",1)\n",
    "        return 1\n",
    "    \n",
    "majority(n_closest_to(data, (0.5, 1), 3))"
   ]
  },
  {
   "cell_type": "markdown",
   "metadata": {},
   "source": [
    "g) Re-using the functions from e) and f), you should be able to assign a class to any new point. In this exercise we will implement Leave-one-out cross validiation in order to evaluate the performance of our model.\n",
    "\n",
    "For each point in the dataset:\n",
    "\n",
    "- consider that point as your test set and the rest of the data as your training set\n",
    "- classify that point using the training set\n",
    "- keep track of whether you were correct with the use of a counter\n",
    "\n",
    "Once you've iterated through the entire dataset, divide the counter by the number of points in the dataset to report an overall testing accuracy."
   ]
  },
  {
   "cell_type": "code",
   "execution_count": 43,
   "metadata": {},
   "outputs": [
    {
     "name": "stdout",
     "output_type": "stream",
     "text": [
      "[((2, 3.5), 1.5811388300841898, 1), ((2.5, 2.5), 1.8027756377319946, 0), ((2, 4), 1.5, 1)]\n",
      "Class: 1\n",
      "[((0.5, 0.5), 1.118033988749895, 1), ((1, 2), 1.118033988749895, 1), ((0.0, 2.5), 1.0, 1)]\n",
      "Class: 1\n",
      "[((1.5, 2.5), 0.7071067811865476, 0), ((2, 2), 1.0, 0), ((1, 3), 1.0, 1)]\n",
      "Class: 0\n",
      "[((2, 2), 1.118033988749895, 0), ((2, 1), 0.5, 1), ((3, 1.5), 0.7071067811865476, 0)]\n",
      "Class: 0\n",
      "[((2, 4), 0.5, 1), ((1.5, 2.5), 1.118033988749895, 0), ((1, 3), 1.118033988749895, 1)]\n",
      "Class: 1\n",
      "[((2, 2), 0.7071067811865476, 0), ((1, 3), 0.7071067811865476, 1), ((1, 2), 0.7071067811865476, 1)]\n",
      "Class: 1\n",
      "[((2.5, 1), 0.5, 0), ((3, 1.5), 1.118033988749895, 0), ((2, 2), 1.0, 0)]\n",
      "Class: 0\n",
      "[((2.5, 1), 1.4142135623730951, 0), ((2, 1), 1.8027756377319946, 1), ((3, 1.5), 1.5811388300841898, 0)]\n",
      "Class: 0\n",
      "[((2, 3.5), 1.118033988749895, 1), ((1.5, 2.5), 0.7071067811865476, 0), ((1, 2), 1.0, 1)]\n",
      "Class: 1\n",
      "[((2, 2), 1.118033988749895, 0), ((2.5, 1), 0.7071067811865476, 0), ((2, 1), 1.118033988749895, 1)]\n",
      "Class: 0\n",
      "[((3.5, 4), 1.5, 1), ((2, 3.5), 0.5, 1), ((1, 3), 1.4142135623730951, 1)]\n",
      "Class: 1\n",
      "[((2.5, 2.5), 0.7071067811865476, 0), ((1.5, 2.5), 0.7071067811865476, 0), ((1, 2), 1.0, 1)]\n",
      "Class: 0\n",
      "[((2, 2), 0.7071067811865476, 0), ((3, 1.5), 1.118033988749895, 0), ((1.5, 2.5), 1.0, 0)]\n",
      "Class: 0\n",
      "[((2, 1), 1.5811388300841898, 1), ((0, 1.5), 1.118033988749895, 0), ((1, 2), 1.5811388300841898, 1)]\n",
      "Class: 1\n",
      "[((1, 3), 1.118033988749895, 1), ((0, 1.5), 1.0, 0), ((1, 2), 1.118033988749895, 1)]\n",
      "Class: 1\n",
      "overall accuracy =  0.7333333333333333\n"
     ]
    }
   ],
   "source": [
    "import copy\n",
    "count = 0\n",
    "for i in range(len(data[\"Attribute A\"])):\n",
    "    temp = copy.deepcopy(data)\n",
    "    actual_class = temp[\"Class\"][i]\n",
    "    for key in temp:\n",
    "        if i < len(temp[key]):\n",
    "            del temp[key][i]\n",
    "    training_set = temp\n",
    "    #print(training_set)\n",
    "    prediction = majority(n_closest_to(training_set, (data[\"Attribute A\"][i], data[\"Attribute B\"][i]), 3))\n",
    "    if prediction == actual_class:\n",
    "        count += 1\n",
    "\n",
    "print(\"overall accuracy = \", count/len(data[\"Attribute A\"]))\n"
   ]
  },
  {
   "attachments": {},
   "cell_type": "markdown",
   "metadata": {},
   "source": [
    "## Challenge Problem\n",
    "\n",
    "For this question we will re-use the \"mnist_784\" dataset.\n",
    "\n",
    "a) Begin by creating a training and testing datasest from our dataset, with a 80-20 ratio, and random_state=1. You can use the `train_test_split` function from sklearn. By holding out a portion of the dataset we can evaluate how our model generalizes to unseen data (i.e. data it did not learn from)."
   ]
  },
  {
   "cell_type": "code",
   "execution_count": 45,
   "metadata": {},
   "outputs": [
    {
     "name": "stdout",
     "output_type": "stream",
     "text": [
      "       pixel1  pixel2  pixel3  pixel4  pixel5  pixel6  pixel7  pixel8  pixel9  \\\n",
      "57050       0       0       0       0       0       0       0       0       0   \n",
      "66119       0       0       0       0       0       0       0       0       0   \n",
      "2762        0       0       0       0       0       0       0       0       0   \n",
      "6182        0       0       0       0       0       0       0       0       0   \n",
      "35804       0       0       0       0       0       0       0       0       0   \n",
      "...       ...     ...     ...     ...     ...     ...     ...     ...     ...   \n",
      "49100       0       0       0       0       0       0       0       0       0   \n",
      "20609       0       0       0       0       0       0       0       0       0   \n",
      "21440       0       0       0       0       0       0       0       0       0   \n",
      "50057       0       0       0       0       0       0       0       0       0   \n",
      "5192        0       0       0       0       0       0       0       0       0   \n",
      "\n",
      "       pixel10  ...  pixel775  pixel776  pixel777  pixel778  pixel779  \\\n",
      "57050        0  ...         0         0         0         0         0   \n",
      "66119        0  ...         0         0         0         0         0   \n",
      "2762         0  ...         0         0         0         0         0   \n",
      "6182         0  ...         0         0         0         0         0   \n",
      "35804        0  ...         0         0         0         0         0   \n",
      "...        ...  ...       ...       ...       ...       ...       ...   \n",
      "49100        0  ...         0         0         0         0         0   \n",
      "20609        0  ...         0         0         0         0         0   \n",
      "21440        0  ...         0         0         0         0         0   \n",
      "50057        0  ...         0         0         0         0         0   \n",
      "5192         0  ...         0         0         0         0         0   \n",
      "\n",
      "       pixel780  pixel781  pixel782  pixel783  pixel784  \n",
      "57050         0         0         0         0         0  \n",
      "66119         0         0         0         0         0  \n",
      "2762          0         0         0         0         0  \n",
      "6182          0         0         0         0         0  \n",
      "35804         0         0         0         0         0  \n",
      "...         ...       ...       ...       ...       ...  \n",
      "49100         0         0         0         0         0  \n",
      "20609         0         0         0         0         0  \n",
      "21440         0         0         0         0         0  \n",
      "50057         0         0         0         0         0  \n",
      "5192          0         0         0         0         0  \n",
      "\n",
      "[56000 rows x 784 columns]\n"
     ]
    }
   ],
   "source": [
    "from sklearn.datasets import fetch_openml\n",
    "from sklearn.model_selection import train_test_split\n",
    "\n",
    "# Load MNIST dataset\n",
    "mnist = fetch_openml('mnist_784')\n",
    "\n",
    "# Split dataset into features (X) and labels (y)\n",
    "X, y = mnist.data, mnist.target\n",
    "\n",
    "# Split dataset into train and test sets\n",
    "X_train, X_test, y_train, y_test = train_test_split(X, y, test_size=0.2, random_state=1)\n",
    "\n",
    "print(X_train)\n",
    "\n",
    "\n",
    "\n"
   ]
  },
  {
   "attachments": {},
   "cell_type": "markdown",
   "metadata": {},
   "source": [
    "b) For K ranging from 1 to 20:\n",
    "\n",
    "1. train a KNN on the training data\n",
    "2. record the training and testing accuracy\n",
    "\n",
    "Plot a graph of the training and testing set accuracy as a function of the number of neighbors K (on the same plot). Which value of K is optimal? Briefly explain."
   ]
  },
  {
   "cell_type": "code",
   "execution_count": 48,
   "metadata": {},
   "outputs": [
    {
     "name": "stdout",
     "output_type": "stream",
     "text": [
      "Accuracy for k=1: Train Accuracy=1.0000, Test Accuracy=0.9724\n",
      "Accuracy for k=2: Train Accuracy=0.9855, Test Accuracy=0.9676\n",
      "Accuracy for k=3: Train Accuracy=0.9863, Test Accuracy=0.9722\n",
      "Accuracy for k=4: Train Accuracy=0.9825, Test Accuracy=0.9709\n",
      "Accuracy for k=5: Train Accuracy=0.9810, Test Accuracy=0.9721\n",
      "Accuracy for k=6: Train Accuracy=0.9786, Test Accuracy=0.9711\n",
      "Accuracy for k=7: Train Accuracy=0.9778, Test Accuracy=0.9711\n",
      "Accuracy for k=8: Train Accuracy=0.9760, Test Accuracy=0.9696\n",
      "Accuracy for k=9: Train Accuracy=0.9752, Test Accuracy=0.9687\n",
      "Accuracy for k=10: Train Accuracy=0.9740, Test Accuracy=0.9681\n",
      "Accuracy for k=11: Train Accuracy=0.9733, Test Accuracy=0.9672\n",
      "Accuracy for k=12: Train Accuracy=0.9721, Test Accuracy=0.9667\n",
      "Accuracy for k=13: Train Accuracy=0.9716, Test Accuracy=0.9656\n",
      "Accuracy for k=14: Train Accuracy=0.9702, Test Accuracy=0.9658\n",
      "Accuracy for k=15: Train Accuracy=0.9696, Test Accuracy=0.9642\n",
      "Accuracy for k=16: Train Accuracy=0.9692, Test Accuracy=0.9636\n",
      "Accuracy for k=17: Train Accuracy=0.9684, Test Accuracy=0.9632\n",
      "Accuracy for k=18: Train Accuracy=0.9679, Test Accuracy=0.9629\n",
      "Accuracy for k=19: Train Accuracy=0.9674, Test Accuracy=0.9623\n",
      "Accuracy for k=20: Train Accuracy=0.9667, Test Accuracy=0.9622\n",
      "Best k value based on test accuracy: 1\n"
     ]
    }
   ],
   "source": [
    "from sklearn.neighbors import KNeighborsClassifier\n",
    "from sklearn.metrics import accuracy_score\n",
    "\n",
    "train_accuracies = {}\n",
    "test_accuracies = {}\n",
    "\n",
    "for k in range(1, 21):\n",
    "    # Initialize KNN classifier with current k value\n",
    "    knn_classifier = KNeighborsClassifier(n_neighbors=k)\n",
    "    \n",
    "    # Train the classifier on the training data\n",
    "    knn_classifier.fit(X_train, y_train)\n",
    "    \n",
    "    # Make predictions on the training data\n",
    "    y_train_pred = knn_classifier.predict(X_train)\n",
    "    \n",
    "    # Make predictions on the test data\n",
    "    y_test_pred = knn_classifier.predict(X_test)\n",
    "    \n",
    "    # Calculate accuracy on training data\n",
    "    train_accuracy = accuracy_score(y_train, y_train_pred)\n",
    "    \n",
    "    # Calculate accuracy on test data\n",
    "    test_accuracy = accuracy_score(y_test, y_test_pred)\n",
    "    \n",
    "    # Store accuracies in dictionaries\n",
    "    train_accuracies[k] = train_accuracy\n",
    "    test_accuracies[k] = test_accuracy\n",
    "\n",
    "    # Print accuracy for the current k value\n",
    "    print(f\"Accuracy for k={k}: Train Accuracy={train_accuracy:.4f}, Test Accuracy={test_accuracy:.4f}\")\n",
    "\n",
    "# Print best k value based on test accuracy\n",
    "best_k = max(test_accuracies, key=test_accuracies.get)\n",
    "print(f\"Best k value based on test accuracy: {best_k}\")\n",
    "\n"
   ]
  },
  {
   "cell_type": "code",
   "execution_count": 49,
   "metadata": {},
   "outputs": [
    {
     "data": {
      "image/png": "[encoded data removed]",
      "text/plain": [
       "<Figure size 640x480 with 1 Axes>"
      ]
     },
     "metadata": {},
     "output_type": "display_data"
    }
   ],
   "source": [
    "k_values = [k for k in range(1, 21)]\n",
    "\n",
    "# Plot the graph\n",
    "plt.plot(k_values, list(train_accuracies.values()), marker='o', label='Training Accuracy')\n",
    "plt.plot(k_values, list(test_accuracies.values()), marker='o', label='Testing Accuracy')\n",
    "\n",
    "# Add labels and title\n",
    "plt.xlabel('k')\n",
    "plt.ylabel('Accuracy')\n",
    "plt.title('Training and Testing Accuracies for Different k Values')\n",
    "plt.xticks(k_values)  # Show all k values on x-axis\n",
    "plt.grid(True)\n",
    "plt.legend()\n",
    "\n",
    "# Show plot\n",
    "plt.show()"
   ]
  },
  {
   "cell_type": "markdown",
   "metadata": {},
   "source": [
    "- k=1 is significantly better than the rest which may mean the data is being overfitted\n",
    "- the next best one k=3 might be the overall best fit"
   ]
  },
  {
   "attachments": {},
   "cell_type": "markdown",
   "metadata": {},
   "source": [
    "c) Using the best model from b), pick an image at random and plot it next to its K nearest neighbors"
   ]
  },
  {
   "cell_type": "code",
   "execution_count": null,
   "metadata": {},
   "outputs": [],
   "source": []
  },
  {
   "attachments": {},
   "cell_type": "markdown",
   "metadata": {},
   "source": [
    "d) Using a dimensionality reduction technique discussed in class, reduce the dimensionality of the dataset before applying a KNN model. Repeat b) and discuss similarities and differences to the previous model. Briefly discuss your choice of dimension and why you think the performance / accuracy of the model has changed."
   ]
  },
  {
   "cell_type": "code",
   "execution_count": null,
   "metadata": {},
   "outputs": [],
   "source": [
    "from sklearn.pipeline import make_pipeline\n",
    "\n",
    "model = make_pipeline(dimensionality_reduction, knn_model)\n",
    "model.fit(...)"
   ]
  },
  {
   "cell_type": "markdown",
   "metadata": {},
   "source": []
  },
  {
   "attachments": {},
   "cell_type": "markdown",
   "metadata": {},
   "source": [
    "## Midterm Prep (Part 1)\n",
    "\n",
    "Compete in the Titanic Data Science Competition on Kaggle: https://www.kaggle.com/c/titanic \n",
    "\n",
    "Requirements:\n",
    "\n",
    "1. Add at least 2 new features to the dataset (explain your reasoning below)\n",
    "2. Use KNN (and only KNN) to predict survival\n",
    "3. Explain your process below and choice of K\n",
    "4. Make a submission to the competition and provide a link to your submission below.\n",
    "5. Show your code below"
   ]
  },
  {
   "cell_type": "markdown",
   "metadata": {},
   "source": [
    "I decided to run this with all the data substituting empty data with average values."
   ]
  },
  {
   "cell_type": "markdown",
   "metadata": {},
   "source": [
    "Submission link: https://www.kaggle.com/competitions/titanic/"
   ]
  },
  {
   "cell_type": "code",
   "execution_count": null,
   "metadata": {},
   "outputs": [],
   "source": [
    "import pandas as pd\n",
    "import numpy as np\n",
    "from sklearn.neighbors import KNeighborsClassifier\n",
    "\n",
    "train = pd.read_csv('train.csv')\n",
    "test = pd.read_csv('test.csv')\n",
    "\n",
    "avg_train_age = train['Age'].mean()\n",
    "avg_test_age = test['Age'].mean()\n",
    "\n",
    "avg_train_fare = train['Fare'].mean()\n",
    "avg_test_fare = test['Fare'].mean()\n",
    "#print(avg_age)\n",
    "\n",
    "# Replace empty values in the column with the calculated average\n",
    "train['Age'].fillna(avg_train_age, inplace=True)\n",
    "test['Age'].fillna(avg_test_age, inplace=True)\n",
    "\n",
    "train['Fare'].fillna(avg_train_age, inplace=True)\n",
    "test['Fare'].fillna(avg_test_age, inplace=True)\n",
    "\n",
    "train['Sex'] = train['Sex'].replace({'male': 0, 'female': 1})\n",
    "test['Sex'] = test['Sex'].replace({'male': 0, 'female': 1})\n",
    "\n",
    "#features = df[['Pclass', 'Sex', 'Age']].to_numpy()\n",
    "train_features = train[['Sex', 'Pclass']]\n",
    "test_features = test[['Sex', 'Pclass']]\n",
    "\n",
    "#labels = df['Survived'].to_numpy()\n",
    "train_labels = train['Survived']\n",
    "\n",
    "# Initialize the KNN classifier\n",
    "knn_classifier = KNeighborsClassifier(n_neighbors=3)\n",
    "\n",
    "# Train the classifier on the training data\n",
    "knn_classifier.fit(train_features, train_labels)\n",
    "\n",
    "# Make predictions on the testing data\n",
    "predictions = knn_classifier.predict(test_features)\n",
    "\n",
    "predictions_df = pd.DataFrame({'PassengerId': test['PassengerId'], 'Survived': predictions})\n",
    "\n",
    "predictions_df.to_csv('predictions.csv', index=False)"
   ]
  },
  {
   "attachments": {},
   "cell_type": "markdown",
   "metadata": {},
   "source": []
  }
 ],
 "metadata": {
  "kernelspec": {
   "display_name": "Python 3",
   "language": "python",
   "name": "python3"
  },
  "language_info": {
   "codemirror_mode": {
    "name": "ipython",
    "version": 3
   },
   "file_extension": ".py",
   "mimetype": "text/x-python",
   "name": "python",
   "nbconvert_exporter": "python",
   "pygments_lexer": "ipython3",
   "version": "3.9.13"
  },
  "orig_nbformat": 4,
  "vscode": {
   "interpreter": {
    "hash": "e7370f93d1d0cde622a1f8e1c04877d8463912d04d973331ad4851f04de6915a"
   }
  }
 },
 "nbformat": 4,
 "nbformat_minor": 2
}
